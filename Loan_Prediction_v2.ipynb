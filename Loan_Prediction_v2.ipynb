{
 "cells": [
  {
   "cell_type": "code",
   "execution_count": 1,
   "metadata": {},
   "outputs": [],
   "source": [
    "# Intractive notebook\n",
    "from IPython.core.interactiveshell import InteractiveShell\n",
    "InteractiveShell.ast_node_interactivity = 'all'\n",
    "import warnings\n",
    "warnings.filterwarnings('ignore')\n",
    "#pd.set_option(\"display.max_columns\",50)\n",
    "\n",
    "import pandas as pd\n",
    "import numpy as np\n",
    "import matplotlib.pyplot as plt\n",
    "import matplotlib.pyplot as plt\n",
    "from sklearn.ensemble import RandomForestClassifier\n",
    "from sklearn.tree import DecisionTreeClassifier \n",
    "from sklearn import metrics\n",
    "from sklearn.feature_selection import SelectFromModel\n",
    "from sklearn import svm\n",
    "import seaborn as sns\n",
    "from sklearn.preprocessing import OneHotEncoder \n",
    "from sklearn.compose import ColumnTransformer \n",
    "from sklearn.feature_extraction import DictVectorizer\n",
    "from sklearn.model_selection import train_test_split\n",
    "from sklearn.metrics import classification_report, confusion_matrix\n",
    "from sklearn.model_selection import cross_val_score,GridSearchCV,StratifiedKFold,RepeatedStratifiedKFold,RandomizedSearchCV\n",
    "from sklearn.metrics import accuracy_score,auc,recall_score,precision_score,precision_recall_curve,confusion_matrix,\\\n",
    "plot_confusion_matrix,plot_precision_recall_curve,plot_roc_curve,classification_report,roc_auc_score,f1_score\n",
    "from sklearn.preprocessing import StandardScaler,MinMaxScaler,MaxAbsScaler\n",
    "from sklearn.linear_model import LogisticRegression"
   ]
  },
  {
   "cell_type": "code",
   "execution_count": 2,
   "metadata": {},
   "outputs": [],
   "source": [
    "train_data=pd.read_excel(\"Modified_train.xlsx\",index=False)\n",
    "train_data.drop(train_data.columns[0],axis=1,inplace=True)"
   ]
  },
  {
   "cell_type": "code",
   "execution_count": 3,
   "metadata": {},
   "outputs": [
    {
     "data": {
      "text/plain": [
       "Index(['Loan_ID', 'Gender', 'Married', 'Dependents', 'Education',\n",
       "       'Self_Employed', 'ApplicantIncome', 'CoapplicantIncome', 'LoanAmount',\n",
       "       'Loan_Amount_Term', 'Credit_History', 'Property_Area', 'Loan_Status',\n",
       "       'LoanAmount_C', 'ApplicantIncome_C', 'CoapplicantIncome_C',\n",
       "       'Loan_Amount_Term_C'],\n",
       "      dtype='object')"
      ]
     },
     "execution_count": 3,
     "metadata": {},
     "output_type": "execute_result"
    }
   ],
   "source": [
    "train_data.columns"
   ]
  },
  {
   "cell_type": "code",
   "execution_count": 4,
   "metadata": {},
   "outputs": [],
   "source": [
    "test_data=pd.read_excel(\"Modified_test.xlsx\")\n",
    "test_data.drop(test_data.columns[0],axis=1,inplace=True)"
   ]
  },
  {
   "cell_type": "code",
   "execution_count": 5,
   "metadata": {},
   "outputs": [
    {
     "data": {
      "text/plain": [
       "Index(['Loan_ID', 'Gender', 'Married', 'Dependents', 'Education',\n",
       "       'Self_Employed', 'ApplicantIncome', 'CoapplicantIncome', 'LoanAmount',\n",
       "       'Loan_Amount_Term', 'Credit_History', 'Property_Area', 'LoanAmount_C',\n",
       "       'ApplicantIncome_C', 'CoapplicantIncome_C', 'Loan_Amount_Term_C'],\n",
       "      dtype='object')"
      ]
     },
     "execution_count": 5,
     "metadata": {},
     "output_type": "execute_result"
    }
   ],
   "source": [
    "test_data.columns"
   ]
  },
  {
   "cell_type": "markdown",
   "metadata": {},
   "source": [
    "<h2><i><b><center><font size=\"6\" face=\"Ribbon\" color=\"bronze\">One hot encoding</font></center></b></i></h2>"
   ]
  },
  {
   "cell_type": "code",
   "execution_count": 6,
   "metadata": {},
   "outputs": [
    {
     "data": {
      "text/plain": [
       "Loan_ID                 object\n",
       "Gender                  object\n",
       "Married                 object\n",
       "Dependents              object\n",
       "Education               object\n",
       "Self_Employed           object\n",
       "ApplicantIncome          int64\n",
       "CoapplicantIncome      float64\n",
       "LoanAmount             float64\n",
       "Loan_Amount_Term         int64\n",
       "Credit_History         float64\n",
       "Property_Area           object\n",
       "Loan_Status              int64\n",
       "LoanAmount_C            object\n",
       "ApplicantIncome_C       object\n",
       "CoapplicantIncome_C     object\n",
       "Loan_Amount_Term_C      object\n",
       "dtype: object"
      ]
     },
     "execution_count": 6,
     "metadata": {},
     "output_type": "execute_result"
    }
   ],
   "source": [
    "train_data.dtypes"
   ]
  },
  {
   "cell_type": "code",
   "execution_count": 7,
   "metadata": {},
   "outputs": [
    {
     "data": {
      "text/plain": [
       "['Gender',\n",
       " 'Married',\n",
       " 'Dependents',\n",
       " 'Education',\n",
       " 'Self_Employed',\n",
       " 'Property_Area',\n",
       " 'LoanAmount_C',\n",
       " 'ApplicantIncome_C',\n",
       " 'CoapplicantIncome_C',\n",
       " 'Loan_Amount_Term_C']"
      ]
     },
     "execution_count": 7,
     "metadata": {},
     "output_type": "execute_result"
    },
    {
     "data": {
      "text/plain": [
       "['ApplicantIncome',\n",
       " 'CoapplicantIncome',\n",
       " 'LoanAmount',\n",
       " 'Loan_Amount_Term',\n",
       " 'Credit_History']"
      ]
     },
     "execution_count": 7,
     "metadata": {},
     "output_type": "execute_result"
    }
   ],
   "source": [
    "target = 'Loan_Status'\n",
    "obj_cols = train_data.head().select_dtypes('O').columns # O means object\n",
    "obj_cols = [i for  i in obj_cols if i not in [target,'Loan_ID']] # removing target and loan id from obj columns as they are not vars\n",
    "obj_cols\n",
    "num_cols = train_data.head().select_dtypes('number').columns # O means object\n",
    "num_cols= [i for  i in num_cols if i not in [target,'Loan_ID']] # removing target and loan id from obj columns as they are not vars\n",
    "num_cols"
   ]
  },
  {
   "cell_type": "code",
   "execution_count": 8,
   "metadata": {},
   "outputs": [
    {
     "data": {
      "text/plain": [
       "['ApplicantIncome',\n",
       " 'CoapplicantIncome',\n",
       " 'LoanAmount',\n",
       " 'Loan_Amount_Term',\n",
       " 'Credit_History',\n",
       " 'Gender',\n",
       " 'Married',\n",
       " 'Dependents',\n",
       " 'Education',\n",
       " 'Self_Employed',\n",
       " 'Property_Area',\n",
       " 'LoanAmount_C',\n",
       " 'ApplicantIncome_C',\n",
       " 'CoapplicantIncome_C',\n",
       " 'Loan_Amount_Term_C']"
      ]
     },
     "execution_count": 8,
     "metadata": {},
     "output_type": "execute_result"
    }
   ],
   "source": [
    "ohe_cols = list(num_cols) +list(obj_cols) \n",
    "ohe_cols"
   ]
  },
  {
   "cell_type": "code",
   "execution_count": 9,
   "metadata": {},
   "outputs": [],
   "source": [
    "dvec = DictVectorizer(sparse=False)\n",
    "train_dvec = dvec.fit_transform(train_data[ohe_cols].transpose().to_dict().values()) #train_data[list(num_cols) +list(obj_cols)]\n",
    "train = pd.DataFrame(train_dvec, index = train_data.index, columns = dvec.get_feature_names())"
   ]
  },
  {
   "cell_type": "code",
   "execution_count": 10,
   "metadata": {},
   "outputs": [
    {
     "data": {
      "text/plain": [
       "Index(['ApplicantIncome', 'ApplicantIncome_C=high', 'ApplicantIncome_C=low',\n",
       "       'ApplicantIncome_C=medium', 'ApplicantIncome_C=very high',\n",
       "       'ApplicantIncome_C=very low', 'CoapplicantIncome',\n",
       "       'CoapplicantIncome_C=high', 'CoapplicantIncome_C=low',\n",
       "       'CoapplicantIncome_C=medium', 'CoapplicantIncome_C=very high',\n",
       "       'CoapplicantIncome_C=very low', 'Credit_History', 'Dependents=0',\n",
       "       'Dependents=1', 'Dependents=2', 'Dependents=3+', 'Education=Graduate',\n",
       "       'Education=Not Graduate', 'Gender=Female', 'Gender=Male', 'LoanAmount',\n",
       "       'LoanAmount_C=high', 'LoanAmount_C=low', 'LoanAmount_C=medium',\n",
       "       'LoanAmount_C=very low', 'Loan_Amount_Term', 'Loan_Amount_Term_C=high',\n",
       "       'Loan_Amount_Term_C=low', 'Loan_Amount_Term_C=medium',\n",
       "       'Loan_Amount_Term_C=very low', 'Married=No', 'Married=Yes',\n",
       "       'Property_Area=Rural', 'Property_Area=Semiurban', 'Property_Area=Urban',\n",
       "       'Self_Employed=No', 'Self_Employed=Yes'],\n",
       "      dtype='object')"
      ]
     },
     "execution_count": 10,
     "metadata": {},
     "output_type": "execute_result"
    }
   ],
   "source": [
    "features=train.columns\n",
    "features"
   ]
  },
  {
   "cell_type": "code",
   "execution_count": 11,
   "metadata": {},
   "outputs": [],
   "source": [
    "test_dvec = dvec.transform(test_data[ohe_cols].transpose().to_dict().values())\n",
    "test = pd.DataFrame(test_dvec, index = test_data.index, columns = dvec.get_feature_names())"
   ]
  },
  {
   "cell_type": "code",
   "execution_count": null,
   "metadata": {},
   "outputs": [],
   "source": []
  },
  {
   "cell_type": "markdown",
   "metadata": {},
   "source": [
    "<h2><i><b><center><font size=\"6\" face=\"Ribbon\" color=\"bronze\">Modelling</font></center></b></i></h2>"
   ]
  },
  {
   "cell_type": "code",
   "execution_count": 12,
   "metadata": {},
   "outputs": [],
   "source": [
    "X_train, X_test, y_train, y_test = train_test_split(train[features],train_data.Loan_Status,test_size = 0.25,\\\n",
    "                                                    random_state =61, stratify = train_data.Loan_Status)"
   ]
  },
  {
   "cell_type": "code",
   "execution_count": 13,
   "metadata": {},
   "outputs": [
    {
     "data": {
      "text/plain": [
       "((460, 38), (154, 38))"
      ]
     },
     "execution_count": 13,
     "metadata": {},
     "output_type": "execute_result"
    }
   ],
   "source": [
    "X_train.shape, X_test.shape"
   ]
  },
  {
   "cell_type": "code",
   "execution_count": 14,
   "metadata": {},
   "outputs": [
    {
     "data": {
      "text/plain": [
       "1    0.686957\n",
       "0    0.313043\n",
       "Name: Loan_Status, dtype: float64"
      ]
     },
     "execution_count": 14,
     "metadata": {},
     "output_type": "execute_result"
    }
   ],
   "source": [
    "y_train.value_counts(normalize = True)"
   ]
  },
  {
   "cell_type": "code",
   "execution_count": 15,
   "metadata": {},
   "outputs": [
    {
     "data": {
      "text/plain": [
       "(614, 17)"
      ]
     },
     "execution_count": 15,
     "metadata": {},
     "output_type": "execute_result"
    }
   ],
   "source": [
    "train_data.shape"
   ]
  },
  {
   "cell_type": "code",
   "execution_count": 16,
   "metadata": {},
   "outputs": [
    {
     "data": {
      "text/plain": [
       "Index(['ApplicantIncome', 'ApplicantIncome_C=high', 'ApplicantIncome_C=low',\n",
       "       'ApplicantIncome_C=medium', 'ApplicantIncome_C=very high',\n",
       "       'ApplicantIncome_C=very low', 'CoapplicantIncome',\n",
       "       'CoapplicantIncome_C=high', 'CoapplicantIncome_C=low',\n",
       "       'CoapplicantIncome_C=medium', 'CoapplicantIncome_C=very high',\n",
       "       'CoapplicantIncome_C=very low', 'Credit_History', 'Dependents=0',\n",
       "       'Dependents=1', 'Dependents=2', 'Dependents=3+', 'Education=Graduate',\n",
       "       'Education=Not Graduate', 'Gender=Female', 'Gender=Male', 'LoanAmount',\n",
       "       'LoanAmount_C=high', 'LoanAmount_C=low', 'LoanAmount_C=medium',\n",
       "       'LoanAmount_C=very low', 'Loan_Amount_Term', 'Loan_Amount_Term_C=high',\n",
       "       'Loan_Amount_Term_C=low', 'Loan_Amount_Term_C=medium',\n",
       "       'Loan_Amount_Term_C=very low', 'Married=No', 'Married=Yes',\n",
       "       'Property_Area=Rural', 'Property_Area=Semiurban', 'Property_Area=Urban',\n",
       "       'Self_Employed=No', 'Self_Employed=Yes'],\n",
       "      dtype='object')"
      ]
     },
     "execution_count": 16,
     "metadata": {},
     "output_type": "execute_result"
    }
   ],
   "source": [
    "train.columns"
   ]
  },
  {
   "cell_type": "markdown",
   "metadata": {},
   "source": [
    "<h2><i><b><center><font size=\"6\" face=\"Ribbon\" color=\"bronze\">Logistic Regression</font></center></b></i></h2>"
   ]
  },
  {
   "cell_type": "code",
   "execution_count": 17,
   "metadata": {},
   "outputs": [],
   "source": [
    "scl = StandardScaler()\n",
    "logreg = LogisticRegression()"
   ]
  },
  {
   "cell_type": "code",
   "execution_count": 18,
   "metadata": {},
   "outputs": [],
   "source": [
    "features_lr = features"
   ]
  },
  {
   "cell_type": "code",
   "execution_count": 19,
   "metadata": {},
   "outputs": [],
   "source": [
    "from sklearn.pipeline import make_pipeline,Pipeline\n",
    "pipe = Pipeline([('sc', scl), ('lr', logreg)])\n",
    "#pipe[0]\n",
    "#pipe[1]"
   ]
  },
  {
   "cell_type": "code",
   "execution_count": 20,
   "metadata": {},
   "outputs": [
    {
     "data": {
      "text/plain": [
       "Pipeline(memory=None,\n",
       "         steps=[('sc',\n",
       "                 StandardScaler(copy=True, with_mean=True, with_std=True)),\n",
       "                ('lr',\n",
       "                 LogisticRegression(C=1.0, class_weight=None, dual=False,\n",
       "                                    fit_intercept=True, intercept_scaling=1,\n",
       "                                    l1_ratio=None, max_iter=100,\n",
       "                                    multi_class='auto', n_jobs=None,\n",
       "                                    penalty='l2', random_state=None,\n",
       "                                    solver='lbfgs', tol=0.0001, verbose=0,\n",
       "                                    warm_start=False))],\n",
       "         verbose=False)"
      ]
     },
     "execution_count": 20,
     "metadata": {},
     "output_type": "execute_result"
    }
   ],
   "source": [
    "pipe.fit(X_train[features_lr], y_train)"
   ]
  },
  {
   "cell_type": "markdown",
   "metadata": {},
   "source": [
    "<h2><i><b><center><font size=\"5\" face=\"Ribbon\" color=\"bronze\">Logistic Regression metrics</font></center></b></i></h2>"
   ]
  },
  {
   "cell_type": "code",
   "execution_count": 21,
   "metadata": {},
   "outputs": [
    {
     "data": {
      "text/plain": [
       "'train_roca : 0.8406293952180028 ; test_roca : 0.695558176100629'"
      ]
     },
     "execution_count": 21,
     "metadata": {},
     "output_type": "execute_result"
    },
    {
     "data": {
      "text/plain": [
       "'train_f1_s : 0.8837876614060259 ; test_f1_s : 0.8630705394190871'"
      ]
     },
     "execution_count": 21,
     "metadata": {},
     "output_type": "execute_result"
    },
    {
     "data": {
      "text/plain": [
       "'train_prec : 0.8083989501312336 ; test_prec : 0.7703703703703704'"
      ]
     },
     "execution_count": 21,
     "metadata": {},
     "output_type": "execute_result"
    },
    {
     "data": {
      "text/plain": [
       "'train_reca : 0.9746835443037974 ; test_reca : 0.9811320754716981'"
      ]
     },
     "execution_count": 21,
     "metadata": {},
     "output_type": "execute_result"
    },
    {
     "data": {
      "text/plain": [
       "'train_accu : 0.8239130434782609 ; test_accu : 0.7857142857142857'"
      ]
     },
     "execution_count": 21,
     "metadata": {},
     "output_type": "execute_result"
    },
    {
     "data": {
      "text/plain": [
       "'train_conf : [[ 71  73]\\n [  8 308]] ; test_conf : [[ 17  31]\\n [  2 104]]'"
      ]
     },
     "execution_count": 21,
     "metadata": {},
     "output_type": "execute_result"
    }
   ],
   "source": [
    "estimator= pipe\n",
    "pred_bin_tr = estimator.predict(X_train[features_lr])\n",
    "pred_bin_te = estimator.predict(X_test[features_lr])\n",
    "#confusion_matrix(y_train,pred_bin_tr)\n",
    "f'train_roca : {roc_auc_score(y_train,estimator.predict_proba(X_train[features_lr])[:,1])} ; \\\n",
    "test_roca : {roc_auc_score(y_test,estimator.predict_proba(X_test[features_lr])[:,1])}'\n",
    "f'train_f1_s : {f1_score(y_train,pred_bin_tr)} ; test_f1_s : {f1_score(y_test,pred_bin_te)}'\n",
    "f'train_prec : {precision_score(y_train,pred_bin_tr)} ; test_prec : {precision_score(y_test,pred_bin_te)}'\n",
    "f'train_reca : {recall_score(y_train,pred_bin_tr)} ; test_reca : {recall_score(y_test,pred_bin_te)}'\n",
    "f'train_accu : {accuracy_score(y_train,pred_bin_tr)} ; test_accu : {accuracy_score(y_test,pred_bin_te)}'\n",
    "f'train_conf : {confusion_matrix(y_train,pred_bin_tr)} ; test_conf : {confusion_matrix(y_test,pred_bin_te)}'"
   ]
  },
  {
   "cell_type": "markdown",
   "metadata": {},
   "source": [
    "<h2><i><b><font size=\"5\" face=\"Ribbon\" color=\"black\">Important features</font></b></i></h2>"
   ]
  },
  {
   "cell_type": "code",
   "execution_count": 22,
   "metadata": {},
   "outputs": [],
   "source": [
    "def logreg_coef(model,data):    \n",
    "    \"\"\"\n",
    "    Gives the intercepts and coefficients along with variable names for logistic regression.\n",
    "    model : name of the logistic model\n",
    "    data :  data on which logistic model was fit, column order must be same as that of the\n",
    "            data on which model was fit\n",
    "    \"\"\"\n",
    "    intercept = pd.DataFrame({'variable' : 'intercept', 'coefficient' : model.intercept_})\n",
    "    coefficient = pd.DataFrame({'variable' : data.columns, 'coefficient' : model.coef_.transpose().flatten()})\n",
    "    coefficient = coefficient.reindex(coefficient.coefficient.abs().sort_values(ascending = False).index)\n",
    "    return(pd.concat([intercept,coefficient], axis = 0).reset_index(drop = True))\n"
   ]
  },
  {
   "cell_type": "code",
   "execution_count": 23,
   "metadata": {},
   "outputs": [
    {
     "name": "stdout",
     "output_type": "stream",
     "text": [
      "                         variable  coefficient\n",
      "0                       intercept     0.872801\n",
      "1                  Credit_History     1.498386\n",
      "2               CoapplicantIncome    -0.704290\n",
      "3         Loan_Amount_Term_C=high    -0.440782\n",
      "4                Loan_Amount_Term     0.429715\n",
      "5   CoapplicantIncome_C=very high     0.359893\n",
      "6    CoapplicantIncome_C=very low    -0.297924\n",
      "7         Property_Area=Semiurban     0.291312\n",
      "8                      LoanAmount    -0.282648\n",
      "9          Loan_Amount_Term_C=low     0.272574\n",
      "10            Property_Area=Rural    -0.199269\n",
      "11                   Dependents=2     0.192005\n",
      "12                   Dependents=1    -0.177462\n",
      "13    Loan_Amount_Term_C=very low     0.175146\n",
      "14              LoanAmount_C=high     0.149290\n",
      "15    ApplicantIncome_C=very high     0.146703\n",
      "16                     Married=No    -0.132682\n",
      "17                    Married=Yes     0.132682\n",
      "18     CoapplicantIncome_C=medium     0.126807\n",
      "19            Property_Area=Urban    -0.114789\n",
      "20     ApplicantIncome_C=very low    -0.100684\n",
      "21         Education=Not Graduate    -0.090306\n",
      "22             Education=Graduate     0.090306\n",
      "23      Loan_Amount_Term_C=medium    -0.084660\n",
      "24       CoapplicantIncome_C=high     0.074405\n",
      "25                  Gender=Female     0.055495\n",
      "26                    Gender=Male    -0.055495\n",
      "27            LoanAmount_C=medium    -0.052154\n",
      "28                ApplicantIncome     0.049652\n",
      "29        CoapplicantIncome_C=low     0.044123\n",
      "30                  Dependents=3+    -0.043415\n",
      "31               Self_Employed=No     0.031412\n",
      "32              Self_Employed=Yes    -0.031412\n",
      "33       ApplicantIncome_C=medium     0.025845\n",
      "34          LoanAmount_C=very low     0.020217\n",
      "35                   Dependents=0     0.019072\n",
      "36          ApplicantIncome_C=low    -0.012280\n",
      "37               LoanAmount_C=low    -0.008734\n",
      "38         ApplicantIncome_C=high     0.003439\n"
     ]
    }
   ],
   "source": [
    "#to check the important features\n",
    "print(logreg_coef(pipe[1],X_train))"
   ]
  },
  {
   "cell_type": "markdown",
   "metadata": {},
   "source": [
    "<h2><i><b><center><font size=\"6\" face=\"Ribbon\" color=\"bronze\">Selective logistic Regression</font></center></b></i></h2>"
   ]
  },
  {
   "cell_type": "code",
   "execution_count": 24,
   "metadata": {},
   "outputs": [],
   "source": [
    "scl_s = StandardScaler()\n",
    "logreg_s = LogisticRegression()# 'balanced'"
   ]
  },
  {
   "cell_type": "markdown",
   "metadata": {},
   "source": [
    "<h2><i><b><center><font size=\"4\" face=\"Ribbon\" color=\"black\">Selecting features with 5% and above importance</font></center></b></i></h2>"
   ]
  },
  {
   "cell_type": "code",
   "execution_count": 25,
   "metadata": {},
   "outputs": [],
   "source": [
    "#taking top 15 features with 5% importance\n",
    "features_lr1 = ['Credit_History','CoapplicantIncome','Loan_Amount_Term_C=high',\n",
    "                'Loan_Amount_Term','CoapplicantIncome_C=very high','CoapplicantIncome_C=very low',\n",
    "                'Property_Area=Semiurban','LoanAmount','Loan_Amount_Term_C=low','Property_Area=Rural',\n",
    "                'Dependents=2','Dependents=1','Loan_Amount_Term_C=very low','LoanAmount_C=high',\n",
    "                'ApplicantIncome_C=very high','Married=Yes','Married=No','CoapplicantIncome_C=medium',\n",
    "                'Property_Area=Urban','ApplicantIncome_C=very low','Education=Not Graduate','Education=Graduate',\n",
    "                'Loan_Amount_Term_C=medium','CoapplicantIncome_C=high']"
   ]
  },
  {
   "cell_type": "code",
   "execution_count": 26,
   "metadata": {},
   "outputs": [],
   "source": [
    "pipe = Pipeline([('sc', scl_s), ('lr', logreg_s)])\n",
    "#pipe[0]\n",
    "#pipe[1]"
   ]
  },
  {
   "cell_type": "code",
   "execution_count": 27,
   "metadata": {},
   "outputs": [
    {
     "data": {
      "text/plain": [
       "Pipeline(memory=None,\n",
       "         steps=[('sc',\n",
       "                 StandardScaler(copy=True, with_mean=True, with_std=True)),\n",
       "                ('lr',\n",
       "                 LogisticRegression(C=1.0, class_weight=None, dual=False,\n",
       "                                    fit_intercept=True, intercept_scaling=1,\n",
       "                                    l1_ratio=None, max_iter=100,\n",
       "                                    multi_class='auto', n_jobs=None,\n",
       "                                    penalty='l2', random_state=None,\n",
       "                                    solver='lbfgs', tol=0.0001, verbose=0,\n",
       "                                    warm_start=False))],\n",
       "         verbose=False)"
      ]
     },
     "execution_count": 27,
     "metadata": {},
     "output_type": "execute_result"
    }
   ],
   "source": [
    "pipe.fit(X_train[features_lr1], y_train)"
   ]
  },
  {
   "cell_type": "markdown",
   "metadata": {},
   "source": [
    "<h2><i><b><center><font size=\"5\" face=\"Ribbon\" color=\"bronze\">Selective logistic Regression metrics</font></center></b></i></h2>"
   ]
  },
  {
   "cell_type": "code",
   "execution_count": 28,
   "metadata": {},
   "outputs": [
    {
     "data": {
      "text/plain": [
       "'train_roca : 0.8397723277074542 ; test_roca : 0.7101022012578617'"
      ]
     },
     "execution_count": 28,
     "metadata": {},
     "output_type": "execute_result"
    },
    {
     "data": {
      "text/plain": [
       "'train_f1_s : 0.8837876614060259 ; test_f1_s : 0.8630705394190871'"
      ]
     },
     "execution_count": 28,
     "metadata": {},
     "output_type": "execute_result"
    },
    {
     "data": {
      "text/plain": [
       "'train_prec : 0.8083989501312336 ; test_prec : 0.7703703703703704'"
      ]
     },
     "execution_count": 28,
     "metadata": {},
     "output_type": "execute_result"
    },
    {
     "data": {
      "text/plain": [
       "'train_reca : 0.9746835443037974 ; test_reca : 0.9811320754716981'"
      ]
     },
     "execution_count": 28,
     "metadata": {},
     "output_type": "execute_result"
    },
    {
     "data": {
      "text/plain": [
       "'train_accu : 0.8239130434782609 ; test_accu : 0.7857142857142857'"
      ]
     },
     "execution_count": 28,
     "metadata": {},
     "output_type": "execute_result"
    },
    {
     "data": {
      "text/plain": [
       "'train_conf : [[ 71  73]\\n [  8 308]] ; test_conf : [[ 17  31]\\n [  2 104]]'"
      ]
     },
     "execution_count": 28,
     "metadata": {},
     "output_type": "execute_result"
    }
   ],
   "source": [
    "estimator= pipe\n",
    "pred_bin_tr = estimator.predict(X_train[features_lr1])\n",
    "pred_bin_te = estimator.predict(X_test[features_lr1])\n",
    "#confusion_matrix(y_train,pred_bin_tr)\n",
    "f'train_roca : {roc_auc_score(y_train,estimator.predict_proba(X_train[features_lr1])[:,1])} ; \\\n",
    "test_roca : {roc_auc_score(y_test,estimator.predict_proba(X_test[features_lr1])[:,1])}'\n",
    "f'train_f1_s : {f1_score(y_train,pred_bin_tr)} ; test_f1_s : {f1_score(y_test,pred_bin_te)}'\n",
    "f'train_prec : {precision_score(y_train,pred_bin_tr)} ; test_prec : {precision_score(y_test,pred_bin_te)}'\n",
    "f'train_reca : {recall_score(y_train,pred_bin_tr)} ; test_reca : {recall_score(y_test,pred_bin_te)}'\n",
    "f'train_accu : {accuracy_score(y_train,pred_bin_tr)} ; test_accu : {accuracy_score(y_test,pred_bin_te)}'\n",
    "f'train_conf : {confusion_matrix(y_train,pred_bin_tr)} ; test_conf : {confusion_matrix(y_test,pred_bin_te)}'\n"
   ]
  },
  {
   "cell_type": "markdown",
   "metadata": {},
   "source": [
    "<h2><i><b><center><font size=\"6\" face=\"Ribbon\" color=\"bronze\">Decision Tree</font></center></b></i></h2>"
   ]
  },
  {
   "cell_type": "code",
   "execution_count": 29,
   "metadata": {},
   "outputs": [
    {
     "data": {
      "text/plain": [
       "DecisionTreeClassifier(ccp_alpha=0.0, class_weight=None, criterion='gini',\n",
       "                       max_depth=None, max_features=None, max_leaf_nodes=None,\n",
       "                       min_impurity_decrease=0.0, min_impurity_split=None,\n",
       "                       min_samples_leaf=1, min_samples_split=2,\n",
       "                       min_weight_fraction_leaf=0.0, presort='deprecated',\n",
       "                       random_state=None, splitter='best')"
      ]
     },
     "execution_count": 29,
     "metadata": {},
     "output_type": "execute_result"
    }
   ],
   "source": [
    "dt = DecisionTreeClassifier()\n",
    "dt.fit(X_train,y_train)"
   ]
  },
  {
   "cell_type": "markdown",
   "metadata": {},
   "source": [
    "<h2><i><b><center><font size=\"5\" face=\"Ribbon\" color=\"bronze\">Decision Tree metrics</font></center></b></i></h2>"
   ]
  },
  {
   "cell_type": "code",
   "execution_count": 30,
   "metadata": {},
   "outputs": [
    {
     "data": {
      "text/plain": [
       "'train_roca : 1.0 ; test_roca : 0.6566430817610063'"
      ]
     },
     "execution_count": 30,
     "metadata": {},
     "output_type": "execute_result"
    },
    {
     "data": {
      "text/plain": [
       "'train_f1_s : 1.0 ; test_f1_s : 0.7887323943661972'"
      ]
     },
     "execution_count": 30,
     "metadata": {},
     "output_type": "execute_result"
    },
    {
     "data": {
      "text/plain": [
       "'train_prec : 1.0 ; test_prec : 0.7850467289719626'"
      ]
     },
     "execution_count": 30,
     "metadata": {},
     "output_type": "execute_result"
    },
    {
     "data": {
      "text/plain": [
       "'train_reca : 1.0 ; test_reca : 0.7924528301886793'"
      ]
     },
     "execution_count": 30,
     "metadata": {},
     "output_type": "execute_result"
    },
    {
     "data": {
      "text/plain": [
       "'train_accu : 1.0 ; test_accu : 0.7077922077922078'"
      ]
     },
     "execution_count": 30,
     "metadata": {},
     "output_type": "execute_result"
    },
    {
     "data": {
      "text/plain": [
       "'train_conf : [[144   0]\\n [  0 316]] ; test_conf : [[25 23]\\n [22 84]]'"
      ]
     },
     "execution_count": 30,
     "metadata": {},
     "output_type": "execute_result"
    }
   ],
   "source": [
    "estimator= dt\n",
    "pred_bin_tr = estimator.predict(X_train)\n",
    "pred_bin_te = estimator.predict(X_test)\n",
    "f'train_roca : {roc_auc_score(y_train,estimator.predict_proba(X_train)[:,1])} ; \\\n",
    "test_roca : {roc_auc_score(y_test,estimator.predict_proba(X_test)[:,1])}'\n",
    "f'train_f1_s : {f1_score(y_train,pred_bin_tr)} ; test_f1_s : {f1_score(y_test,pred_bin_te)}'\n",
    "f'train_prec : {precision_score(y_train,pred_bin_tr)} ; test_prec : {precision_score(y_test,pred_bin_te)}'\n",
    "f'train_reca : {recall_score(y_train,pred_bin_tr)} ; test_reca : {recall_score(y_test,pred_bin_te)}'\n",
    "f'train_accu : {accuracy_score(y_train,pred_bin_tr)} ; test_accu : {accuracy_score(y_test,pred_bin_te)}'\n",
    "f'train_conf : {confusion_matrix(y_train,pred_bin_tr)} ; test_conf : {confusion_matrix(y_test,pred_bin_te)}'"
   ]
  },
  {
   "cell_type": "markdown",
   "metadata": {},
   "source": [
    "<h2><i><b><font size=\"5\" face=\"Ribbon\" color=\"black\">Important features</font></b></i></h2>"
   ]
  },
  {
   "cell_type": "code",
   "execution_count": 31,
   "metadata": {},
   "outputs": [
    {
     "data": {
      "text/plain": [
       "{'ApplicantIncome': 16.944390619864155,\n",
       " 'ApplicantIncome_C=high': 0.505450070323488,\n",
       " 'ApplicantIncome_C=low': 0.8087201125175806,\n",
       " 'ApplicantIncome_C=medium': 0.4653760238272536,\n",
       " 'ApplicantIncome_C=very high': 0.0,\n",
       " 'ApplicantIncome_C=very low': 0.0,\n",
       " 'CoapplicantIncome': 13.055436138954851,\n",
       " 'CoapplicantIncome_C=high': 0.0,\n",
       " 'CoapplicantIncome_C=low': 0.0,\n",
       " 'CoapplicantIncome_C=medium': 0.673933427097984,\n",
       " 'CoapplicantIncome_C=very high': 0.0,\n",
       " 'CoapplicantIncome_C=very low': 0.0,\n",
       " 'Credit_History': 31.622418252165108,\n",
       " 'Dependents=0': 0.9747965641952981,\n",
       " 'Dependents=1': 1.335605404912881,\n",
       " 'Dependents=2': 1.1090362948957024,\n",
       " 'Dependents=3+': 1.9513890363021356,\n",
       " 'Education=Graduate': 0.962762038711406,\n",
       " 'Education=Not Graduate': 0.84241678387248,\n",
       " 'Gender=Female': 0.2888286116134218,\n",
       " 'Gender=Male': 1.7107540841718043,\n",
       " 'LoanAmount': 12.371539047190154,\n",
       " 'LoanAmount_C=high': 0.393127832473824,\n",
       " 'LoanAmount_C=low': 0.7265349821542001,\n",
       " 'LoanAmount_C=medium': 1.347866854195968,\n",
       " 'LoanAmount_C=very low': 0.0,\n",
       " 'Loan_Amount_Term': 3.1065207516781537,\n",
       " 'Loan_Amount_Term_C=high': 0.45197498441118844,\n",
       " 'Loan_Amount_Term_C=low': 0.0,\n",
       " 'Loan_Amount_Term_C=medium': 1.3079629012756928,\n",
       " 'Loan_Amount_Term_C=very low': 0.7581751054852319,\n",
       " 'Married=No': 3.121152011670407,\n",
       " 'Married=Yes': 0.505450070323488,\n",
       " 'Property_Area=Rural': 0.8282488652346246,\n",
       " 'Property_Area=Semiurban': 1.5280440948055058,\n",
       " 'Property_Area=Urban': 0.0,\n",
       " 'Self_Employed=No': 0.3020890356760168,\n",
       " 'Self_Employed=Yes': 0.0}"
      ]
     },
     "execution_count": 31,
     "metadata": {},
     "output_type": "execute_result"
    }
   ],
   "source": [
    "dict(zip(features,100*dt.feature_importances_))"
   ]
  },
  {
   "cell_type": "markdown",
   "metadata": {},
   "source": [
    "<h2><i><b><font size=\"5\" face=\"Ribbon\" color=\"black\">Plotting a decision tree with maximum depth equal to 2</font></b></i></h2>"
   ]
  },
  {
   "cell_type": "code",
   "execution_count": 32,
   "metadata": {},
   "outputs": [
    {
     "data": {
      "image/png": "[encoded data removed]",
      "text/plain": [
       "<Figure size 1224x720 with 1 Axes>"
      ]
     },
     "metadata": {
      "needs_background": "light"
     },
     "output_type": "display_data"
    }
   ],
   "source": [
    "from sklearn.tree import plot_tree\n",
    "fig, ax = plt.subplots(figsize=(17,10)) ;\n",
    "x = plot_tree(dt,max_depth = 2,feature_names = features);\n",
    "plt.show()"
   ]
  },
  {
   "cell_type": "markdown",
   "metadata": {},
   "source": [
    "<h2><i><b><center><font size=\"6\" face=\"Ribbon\" color=\"bronze\">Selective Decision Tree</font></center></b></i></h2>"
   ]
  },
  {
   "cell_type": "markdown",
   "metadata": {},
   "source": [
    "<h2><i><b><center><font size=\"4\" face=\"Ribbon\" color=\"black\">Selecting features with 5% and above importance</font></center></b></i></h2>"
   ]
  },
  {
   "cell_type": "code",
   "execution_count": 33,
   "metadata": {},
   "outputs": [],
   "source": [
    "features_dt1= ['ApplicantIncome',\n",
    " 'ApplicantIncome_C=low',\n",
    " 'CoapplicantIncome',\n",
    " 'Credit_History',\n",
    " 'Dependents=1',\n",
    " 'Dependents=3+',\n",
    " 'Gender=Female',\n",
    " 'LoanAmount',\n",
    " 'Loan_Amount_Term',\n",
    " 'Loan_Amount_Term_C=high',\n",
    " 'Married=No',\n",
    " 'Property_Area=Rural',\n",
    " 'Property_Area=Semiurban',\n",
    " 'Self_Employed=No']"
   ]
  },
  {
   "cell_type": "code",
   "execution_count": 34,
   "metadata": {},
   "outputs": [
    {
     "data": {
      "text/plain": [
       "DecisionTreeClassifier(ccp_alpha=0.0, class_weight=None, criterion='gini',\n",
       "                       max_depth=None, max_features=None, max_leaf_nodes=None,\n",
       "                       min_impurity_decrease=0.0, min_impurity_split=None,\n",
       "                       min_samples_leaf=1, min_samples_split=2,\n",
       "                       min_weight_fraction_leaf=0.0, presort='deprecated',\n",
       "                       random_state=None, splitter='best')"
      ]
     },
     "execution_count": 34,
     "metadata": {},
     "output_type": "execute_result"
    }
   ],
   "source": [
    "dt1 = DecisionTreeClassifier()\n",
    "dt1.fit(X_train[features_dt1],y_train)"
   ]
  },
  {
   "cell_type": "markdown",
   "metadata": {},
   "source": [
    "<h2><i><b><center><font size=\"5\" face=\"Ribbon\" color=\"bronze\">Selective Decision Tree metrics</font></center></b></i></h2>"
   ]
  },
  {
   "cell_type": "code",
   "execution_count": 35,
   "metadata": {},
   "outputs": [
    {
     "data": {
      "text/plain": [
       "'train_roca : 1.0 ; test_roca : 0.6660770440251572'"
      ]
     },
     "execution_count": 35,
     "metadata": {},
     "output_type": "execute_result"
    },
    {
     "data": {
      "text/plain": [
       "'train_f1_s : 1.0 ; test_f1_s : 0.7999999999999999'"
      ]
     },
     "execution_count": 35,
     "metadata": {},
     "output_type": "execute_result"
    },
    {
     "data": {
      "text/plain": [
       "'train_prec : 1.0 ; test_prec : 0.7889908256880734'"
      ]
     },
     "execution_count": 35,
     "metadata": {},
     "output_type": "execute_result"
    },
    {
     "data": {
      "text/plain": [
       "'train_reca : 1.0 ; test_reca : 0.8113207547169812'"
      ]
     },
     "execution_count": 35,
     "metadata": {},
     "output_type": "execute_result"
    },
    {
     "data": {
      "text/plain": [
       "'train_accu : 1.0 ; test_accu : 0.7207792207792207'"
      ]
     },
     "execution_count": 35,
     "metadata": {},
     "output_type": "execute_result"
    },
    {
     "data": {
      "text/plain": [
       "'train_conf : [[144   0]\\n [  0 316]] ; test_conf : [[25 23]\\n [20 86]]'"
      ]
     },
     "execution_count": 35,
     "metadata": {},
     "output_type": "execute_result"
    }
   ],
   "source": [
    "estimator= dt1\n",
    "pred_bin_tr = estimator.predict(X_train[features_dt1])\n",
    "pred_bin_te = estimator.predict(X_test[features_dt1])\n",
    "f'train_roca : {roc_auc_score(y_train,estimator.predict_proba(X_train[features_dt1])[:,1])} ; \\\n",
    "test_roca : {roc_auc_score(y_test,estimator.predict_proba(X_test[features_dt1])[:,1])}'\n",
    "f'train_f1_s : {f1_score(y_train,pred_bin_tr)} ; test_f1_s : {f1_score(y_test,pred_bin_te)}'\n",
    "f'train_prec : {precision_score(y_train,pred_bin_tr)} ; test_prec : {precision_score(y_test,pred_bin_te)}'\n",
    "f'train_reca : {recall_score(y_train,pred_bin_tr)} ; test_reca : {recall_score(y_test,pred_bin_te)}'\n",
    "f'train_accu : {accuracy_score(y_train,pred_bin_tr)} ; test_accu : {accuracy_score(y_test,pred_bin_te)}'\n",
    "f'train_conf : {confusion_matrix(y_train,pred_bin_tr)} ; test_conf : {confusion_matrix(y_test,pred_bin_te)}'"
   ]
  },
  {
   "cell_type": "markdown",
   "metadata": {},
   "source": [
    "<h2><i><b><center><font size=\"6\" face=\"Ribbon\" color=\"bronze\">Random Forest</font></center></b></i></h2>"
   ]
  },
  {
   "cell_type": "code",
   "execution_count": 36,
   "metadata": {},
   "outputs": [
    {
     "name": "stdout",
     "output_type": "stream",
     "text": [
      "CPU times: user 166 ms, sys: 4.14 ms, total: 170 ms\n",
      "Wall time: 171 ms\n"
     ]
    },
    {
     "data": {
      "text/plain": [
       "RandomForestClassifier(bootstrap=True, ccp_alpha=0.0, class_weight=None,\n",
       "                       criterion='gini', max_depth=None, max_features='auto',\n",
       "                       max_leaf_nodes=None, max_samples=None,\n",
       "                       min_impurity_decrease=0.0, min_impurity_split=None,\n",
       "                       min_samples_leaf=1, min_samples_split=2,\n",
       "                       min_weight_fraction_leaf=0.0, n_estimators=100,\n",
       "                       n_jobs=None, oob_score=False, random_state=None,\n",
       "                       verbose=0, warm_start=False)"
      ]
     },
     "execution_count": 36,
     "metadata": {},
     "output_type": "execute_result"
    }
   ],
   "source": [
    "%%time\n",
    "rf = RandomForestClassifier()\n",
    "rf.fit(X_train, y_train)"
   ]
  },
  {
   "cell_type": "markdown",
   "metadata": {},
   "source": [
    "h2><i><b><center><font size=\"5\" face=\"Ribbon\" color=\"bronze\">Random Forest metrics</font></center></b></i></h2>"
   ]
  },
  {
   "cell_type": "code",
   "execution_count": 37,
   "metadata": {},
   "outputs": [
    {
     "data": {
      "text/plain": [
       "'train_roca : 1.0 ; test_roca : 0.7577633647798743'"
      ]
     },
     "execution_count": 37,
     "metadata": {},
     "output_type": "execute_result"
    },
    {
     "data": {
      "text/plain": [
       "'train_f1_s : 1.0 ; test_f1_s : 0.8559322033898306'"
      ]
     },
     "execution_count": 37,
     "metadata": {},
     "output_type": "execute_result"
    },
    {
     "data": {
      "text/plain": [
       "'train_prec : 1.0 ; test_prec : 0.7769230769230769'"
      ]
     },
     "execution_count": 37,
     "metadata": {},
     "output_type": "execute_result"
    },
    {
     "data": {
      "text/plain": [
       "'train_reca : 1.0 ; test_reca : 0.9528301886792453'"
      ]
     },
     "execution_count": 37,
     "metadata": {},
     "output_type": "execute_result"
    },
    {
     "data": {
      "text/plain": [
       "'train_accu : 1.0 ; test_accu : 0.7792207792207793'"
      ]
     },
     "execution_count": 37,
     "metadata": {},
     "output_type": "execute_result"
    },
    {
     "data": {
      "text/plain": [
       "'train_conf : [[144   0]\\n [  0 316]] ; test_conf : [[ 19  29]\\n [  5 101]]'"
      ]
     },
     "execution_count": 37,
     "metadata": {},
     "output_type": "execute_result"
    }
   ],
   "source": [
    "estimator= rf\n",
    "pred_bin_tr = estimator.predict(X_train)\n",
    "pred_bin_te = estimator.predict(X_test)\n",
    "f'train_roca : {roc_auc_score(y_train,estimator.predict_proba(X_train)[:,1])} ; \\\n",
    "test_roca : {roc_auc_score(y_test,estimator.predict_proba(X_test)[:,1])}'\n",
    "f'train_f1_s : {f1_score(y_train,pred_bin_tr)} ; test_f1_s : {f1_score(y_test,pred_bin_te)}'\n",
    "f'train_prec : {precision_score(y_train,pred_bin_tr)} ; test_prec : {precision_score(y_test,pred_bin_te)}'\n",
    "f'train_reca : {recall_score(y_train,pred_bin_tr)} ; test_reca : {recall_score(y_test,pred_bin_te)}'\n",
    "f'train_accu : {accuracy_score(y_train,pred_bin_tr)} ; test_accu : {accuracy_score(y_test,pred_bin_te)}'\n",
    "f'train_conf : {confusion_matrix(y_train,pred_bin_tr)} ; test_conf : {confusion_matrix(y_test,pred_bin_te)}'"
   ]
  },
  {
   "cell_type": "markdown",
   "metadata": {},
   "source": [
    "h2><i><b><font size=\"5\" face=\"Ribbon\" color=\"black\">Important features</font></b></i></h2>"
   ]
  },
  {
   "cell_type": "code",
   "execution_count": 38,
   "metadata": {},
   "outputs": [
    {
     "data": {
      "text/plain": [
       "{'ApplicantIncome': 12.716327762606772,\n",
       " 'ApplicantIncome_C=high': 0.9965725698924571,\n",
       " 'ApplicantIncome_C=low': 1.6429073912615069,\n",
       " 'ApplicantIncome_C=medium': 1.6189774256443645,\n",
       " 'ApplicantIncome_C=very high': 0.26873794441286164,\n",
       " 'ApplicantIncome_C=very low': 0.6320370785666827,\n",
       " 'CoapplicantIncome': 8.424187472719332,\n",
       " 'CoapplicantIncome_C=high': 0.7475930211813416,\n",
       " 'CoapplicantIncome_C=low': 1.1349031702580097,\n",
       " 'CoapplicantIncome_C=medium': 1.213735803699424,\n",
       " 'CoapplicantIncome_C=very high': 0.5237915306471564,\n",
       " 'CoapplicantIncome_C=very low': 1.3159104170565037,\n",
       " 'Credit_History': 23.42317510298918,\n",
       " 'Dependents=0': 1.8734773572916732,\n",
       " 'Dependents=1': 1.8242971105259889,\n",
       " 'Dependents=2': 1.3376671586657922,\n",
       " 'Dependents=3+': 1.3535442566798725,\n",
       " 'Education=Graduate': 1.5009328939183453,\n",
       " 'Education=Not Graduate': 1.2947703859557242,\n",
       " 'Gender=Female': 1.0479836007156214,\n",
       " 'Gender=Male': 1.4756206918573644,\n",
       " 'LoanAmount': 11.73341834152287,\n",
       " 'LoanAmount_C=high': 0.34660297143325,\n",
       " 'LoanAmount_C=low': 1.4605500830509957,\n",
       " 'LoanAmount_C=medium': 1.6527563200075632,\n",
       " 'LoanAmount_C=very low': 0.7968125053426511,\n",
       " 'Loan_Amount_Term': 3.0456378405733733,\n",
       " 'Loan_Amount_Term_C=high': 0.9150952277695906,\n",
       " 'Loan_Amount_Term_C=low': 0.6824411159844186,\n",
       " 'Loan_Amount_Term_C=medium': 1.123164572039588,\n",
       " 'Loan_Amount_Term_C=very low': 0.3842070310564448,\n",
       " 'Married=No': 1.6900590286220418,\n",
       " 'Married=Yes': 1.7480903441157887,\n",
       " 'Property_Area=Rural': 1.816623433235925,\n",
       " 'Property_Area=Semiurban': 2.3262232066864432,\n",
       " 'Property_Area=Urban': 1.6734026115059437,\n",
       " 'Self_Employed=No': 1.2096545853120877,\n",
       " 'Self_Employed=Yes': 1.0281106351950544}"
      ]
     },
     "execution_count": 38,
     "metadata": {},
     "output_type": "execute_result"
    }
   ],
   "source": [
    "dict(zip(features,100*rf.feature_importances_))"
   ]
  },
  {
   "cell_type": "markdown",
   "metadata": {},
   "source": [
    "<h2><i><b><center><font size=\"6\" face=\"Ribbon\" color=\"bronze\">Selective Random Forest</font></center></b></i></h2>"
   ]
  },
  {
   "cell_type": "markdown",
   "metadata": {},
   "source": [
    "<h2><i><b><center><font size=\"4\" face=\"Ribbon\" color=\"black\">Selecting features with 5% and above importance</font></center></b></i></h2>"
   ]
  },
  {
   "cell_type": "code",
   "execution_count": 39,
   "metadata": {},
   "outputs": [],
   "source": [
    "feature_rf2 = ['ApplicantIncome',\n",
    " 'ApplicantIncome_C=low',\n",
    " 'ApplicantIncome_C=medium',\n",
    " 'CoapplicantIncome',\n",
    " 'CoapplicantIncome_C=low',\n",
    " 'CoapplicantIncome_C=medium',\n",
    " 'CoapplicantIncome_C=very low',\n",
    " 'Credit_History',\n",
    " 'Dependents=0',\n",
    " 'Dependents=1',\n",
    " 'Education=Graduate',\n",
    " 'Education=Not Graduate',\n",
    " 'Gender=Male',\n",
    " 'LoanAmount',\n",
    " 'LoanAmount_C=low',\n",
    " 'LoanAmount_C=medium',\n",
    " 'Loan_Amount_Term',\n",
    " 'Loan_Amount_Term_C=high',\n",
    " 'Loan_Amount_Term_C=medium',\n",
    " 'Married=No',\n",
    " 'Married=Yes',\n",
    " 'Property_Area=Rural',\n",
    " 'Property_Area=Semiurban',\n",
    " 'Property_Area=Urban']"
   ]
  },
  {
   "cell_type": "code",
   "execution_count": 40,
   "metadata": {},
   "outputs": [
    {
     "name": "stdout",
     "output_type": "stream",
     "text": [
      "CPU times: user 161 ms, sys: 3.48 ms, total: 164 ms\n",
      "Wall time: 165 ms\n"
     ]
    },
    {
     "data": {
      "text/plain": [
       "RandomForestClassifier(bootstrap=True, ccp_alpha=0.0, class_weight=None,\n",
       "                       criterion='gini', max_depth=None, max_features='auto',\n",
       "                       max_leaf_nodes=None, max_samples=None,\n",
       "                       min_impurity_decrease=0.0, min_impurity_split=None,\n",
       "                       min_samples_leaf=1, min_samples_split=2,\n",
       "                       min_weight_fraction_leaf=0.0, n_estimators=100,\n",
       "                       n_jobs=None, oob_score=False, random_state=None,\n",
       "                       verbose=0, warm_start=False)"
      ]
     },
     "execution_count": 40,
     "metadata": {},
     "output_type": "execute_result"
    }
   ],
   "source": [
    "%%time\n",
    "rf2 = RandomForestClassifier()\n",
    "rf2.fit(X_train[feature_rf2], y_train)"
   ]
  },
  {
   "cell_type": "markdown",
   "metadata": {},
   "source": [
    "<h2><i><b><center><font size=\"5\" face=\"Ribbon\" color=\"bronze\">Selective Random Forest metrics</font></center></b></i></h2>"
   ]
  },
  {
   "cell_type": "code",
   "execution_count": 41,
   "metadata": {},
   "outputs": [
    {
     "data": {
      "text/plain": [
       "'train_roca : 1.0 ; test_roca : 0.7629716981132075'"
      ]
     },
     "execution_count": 41,
     "metadata": {},
     "output_type": "execute_result"
    },
    {
     "data": {
      "text/plain": [
       "'train_f1_s : 1.0 ; test_f1_s : 0.8655462184873949'"
      ]
     },
     "execution_count": 41,
     "metadata": {},
     "output_type": "execute_result"
    },
    {
     "data": {
      "text/plain": [
       "'train_prec : 1.0 ; test_prec : 0.7803030303030303'"
      ]
     },
     "execution_count": 41,
     "metadata": {},
     "output_type": "execute_result"
    },
    {
     "data": {
      "text/plain": [
       "'train_reca : 1.0 ; test_reca : 0.9716981132075472'"
      ]
     },
     "execution_count": 41,
     "metadata": {},
     "output_type": "execute_result"
    },
    {
     "data": {
      "text/plain": [
       "'train_accu : 1.0 ; test_accu : 0.7922077922077922'"
      ]
     },
     "execution_count": 41,
     "metadata": {},
     "output_type": "execute_result"
    },
    {
     "data": {
      "text/plain": [
       "'train_conf : [[144   0]\\n [  0 316]] ; test_conf : [[ 19  29]\\n [  3 103]]'"
      ]
     },
     "execution_count": 41,
     "metadata": {},
     "output_type": "execute_result"
    }
   ],
   "source": [
    "estimator= rf2\n",
    "pred_bin_tr = estimator.predict(X_train[feature_rf2])\n",
    "pred_bin_te = estimator.predict(X_test[feature_rf2])\n",
    "f'train_roca : {roc_auc_score(y_train,estimator.predict_proba(X_train[feature_rf2])[:,1])} ; \\\n",
    "test_roca : {roc_auc_score(y_test,estimator.predict_proba(X_test[feature_rf2])[:,1])}'\n",
    "f'train_f1_s : {f1_score(y_train,pred_bin_tr)} ; test_f1_s : {f1_score(y_test,pred_bin_te)}'\n",
    "f'train_prec : {precision_score(y_train,pred_bin_tr)} ; test_prec : {precision_score(y_test,pred_bin_te)}'\n",
    "f'train_reca : {recall_score(y_train,pred_bin_tr)} ; test_reca : {recall_score(y_test,pred_bin_te)}'\n",
    "f'train_accu : {accuracy_score(y_train,pred_bin_tr)} ; test_accu : {accuracy_score(y_test,pred_bin_te)}'\n",
    "f'train_conf : {confusion_matrix(y_train,pred_bin_tr)} ; test_conf : {confusion_matrix(y_test,pred_bin_te)}'"
   ]
  },
  {
   "cell_type": "markdown",
   "metadata": {},
   "source": [
    "<h2><i><b><center><font size=\"6\" face=\"Ribbon\" color=\"bronze\">K fold cross validation</font></center></b></i></h2>"
   ]
  },
  {
   "cell_type": "code",
   "execution_count": 42,
   "metadata": {},
   "outputs": [
    {
     "data": {
      "text/plain": [
       "array([0.88764045, 0.84615385, 0.84782609, 0.82291667, 0.84745763])"
      ]
     },
     "execution_count": 42,
     "metadata": {},
     "output_type": "execute_result"
    },
    {
     "name": "stdout",
     "output_type": "stream",
     "text": [
      "Full Accuracy: 0.85(+/- 0.04)\n"
     ]
    }
   ],
   "source": [
    "estimator = rf2\n",
    "skf = StratifiedKFold(n_splits=5, shuffle = True,random_state = 51)\n",
    "cv_result = cross_val_score(estimator=estimator, X=train[feature_rf2], y=train_data.Loan_Status, \\\n",
    "                                      cv=skf, scoring = 'f1')\n",
    "cv_result\n",
    "print(\"Full Accuracy: %0.2f(+/- %0.2f)\" % (cv_result.mean(), cv_result.std()*2))"
   ]
  },
  {
   "cell_type": "markdown",
   "metadata": {},
   "source": [
    "<h2><i><b><center><font size=\"6\" face=\"Ribbon\" color=\"bronze\">Mean score and 95% confidence interval of the score estimate</font></center></b></i></h2>"
   ]
  },
  {
   "cell_type": "code",
   "execution_count": 43,
   "metadata": {},
   "outputs": [
    {
     "data": {
      "text/plain": [
       "array([0.81300813, 0.74796748, 0.77235772, 0.83739837, 0.77868852])"
      ]
     },
     "execution_count": 43,
     "metadata": {},
     "output_type": "execute_result"
    },
    {
     "name": "stdout",
     "output_type": "stream",
     "text": [
      "Full accuracy: 0.790(+/- 0.063)\n"
     ]
    },
    {
     "data": {
      "text/plain": [
       "array([0.75461879, 0.64605959, 0.69139785, 0.78400383, 0.70166119])"
      ]
     },
     "execution_count": 43,
     "metadata": {},
     "output_type": "execute_result"
    },
    {
     "name": "stdout",
     "output_type": "stream",
     "text": [
      "Full f1: 0.716(+/- 0.097)\n"
     ]
    },
    {
     "data": {
      "text/plain": [
       "array([0.75795918, 0.72191296, 0.77935223, 0.82171717, 0.70281795])"
      ]
     },
     "execution_count": 43,
     "metadata": {},
     "output_type": "execute_result"
    },
    {
     "name": "stdout",
     "output_type": "stream",
     "text": [
      "Full precision: 0.757(+/- 0.084)\n"
     ]
    },
    {
     "data": {
      "text/plain": [
       "array([0.73374613, 0.62987616, 0.66254579, 0.76007326, 0.69047619])"
      ]
     },
     "execution_count": 43,
     "metadata": {},
     "output_type": "execute_result"
    },
    {
     "name": "stdout",
     "output_type": "stream",
     "text": [
      "Full recall: 0.695(+/- 0.094)\n"
     ]
    }
   ],
   "source": [
    "all_accuracies_data = cross_val_score(estimator=rf2, X=train[feature_rf2], y=train_data[target], cv=5,scoring = 'accuracy')\n",
    "all_accuracies_data\n",
    "print(\"Full accuracy: %0.3f(+/- %0.3f)\" % (all_accuracies_data.mean(), all_accuracies_data.std()*2))\n",
    "\n",
    "all_accuracies_data = cross_val_score(estimator=rf2, X=train[feature_rf2], y=train_data[target], cv=5,scoring = 'f1_macro')\n",
    "all_accuracies_data\n",
    "print(\"Full f1: %0.3f(+/- %0.3f)\" % (all_accuracies_data.mean(), all_accuracies_data.std()*2))\n",
    "\n",
    "\n",
    "all_accuracies_data = cross_val_score(estimator=rf2, X=train[feature_rf2], y=train_data[target], cv=5,scoring = 'precision_macro')\n",
    "all_accuracies_data\n",
    "print(\"Full precision: %0.3f(+/- %0.3f)\" % (all_accuracies_data.mean(), all_accuracies_data.std()*2))\n",
    "\n",
    "all_accuracies_data = cross_val_score(estimator=rf2, X=train[feature_rf2], y=train_data[target], cv=5,scoring = 'recall_macro')\n",
    "all_accuracies_data\n",
    "print(\"Full recall: %0.3f(+/- %0.3f)\" % (all_accuracies_data.mean(), all_accuracies_data.std()*2))"
   ]
  },
  {
   "cell_type": "markdown",
   "metadata": {},
   "source": [
    "<h2><i><b><center><font size=\"6\" face=\"Ribbon\" color=\"bronze\">XGBoost</font></center></b></i></h2>"
   ]
  },
  {
   "cell_type": "code",
   "execution_count": 44,
   "metadata": {},
   "outputs": [],
   "source": [
    "from xgboost import XGBClassifier"
   ]
  },
  {
   "cell_type": "code",
   "execution_count": 45,
   "metadata": {},
   "outputs": [
    {
     "data": {
      "text/plain": [
       "XGBClassifier(base_score=0.5, booster='gbtree', colsample_bylevel=1,\n",
       "              colsample_bynode=1, colsample_bytree=1, gamma=0,\n",
       "              learning_rate=0.1, max_delta_step=0, max_depth=3,\n",
       "              min_child_weight=1, missing=None, n_estimators=100, n_jobs=1,\n",
       "              nthread=None, objective='binary:logistic', random_state=0,\n",
       "              reg_alpha=0, reg_lambda=1, scale_pos_weight=1, seed=None,\n",
       "              silent=None, subsample=1, verbosity=1)"
      ]
     },
     "execution_count": 45,
     "metadata": {},
     "output_type": "execute_result"
    }
   ],
   "source": [
    "XGB = XGBClassifier()\n",
    "XGB"
   ]
  },
  {
   "cell_type": "code",
   "execution_count": 46,
   "metadata": {},
   "outputs": [
    {
     "data": {
      "text/plain": [
       "XGBClassifier(base_score=0.5, booster='gbtree', colsample_bylevel=1,\n",
       "              colsample_bynode=1, colsample_bytree=1, gamma=0,\n",
       "              learning_rate=0.1, max_delta_step=0, max_depth=3,\n",
       "              min_child_weight=1, missing=None, n_estimators=100, n_jobs=1,\n",
       "              nthread=None, objective='binary:logistic', random_state=0,\n",
       "              reg_alpha=0, reg_lambda=1, scale_pos_weight=1, seed=None,\n",
       "              silent=None, subsample=1, verbosity=1)"
      ]
     },
     "execution_count": 46,
     "metadata": {},
     "output_type": "execute_result"
    }
   ],
   "source": [
    "XGB.fit(X_train[features], y_train)"
   ]
  },
  {
   "cell_type": "markdown",
   "metadata": {},
   "source": [
    "<h2><i><b><font size=\"5\" face=\"Ribbon\" color=\"black\">Prediction on train data</font></b></i></h2>"
   ]
  },
  {
   "cell_type": "code",
   "execution_count": 47,
   "metadata": {},
   "outputs": [
    {
     "data": {
      "text/plain": [
       "0.839142091152815"
      ]
     },
     "execution_count": 47,
     "metadata": {},
     "output_type": "execute_result"
    },
    {
     "data": {
      "text/plain": [
       "0.990506329113924"
      ]
     },
     "execution_count": 47,
     "metadata": {},
     "output_type": "execute_result"
    },
    {
     "data": {
      "text/plain": [
       "array([[ 84,  60],\n",
       "       [  3, 313]])"
      ]
     },
     "execution_count": 47,
     "metadata": {},
     "output_type": "execute_result"
    },
    {
     "data": {
      "text/plain": [
       "0.8630434782608696"
      ]
     },
     "execution_count": 47,
     "metadata": {},
     "output_type": "execute_result"
    }
   ],
   "source": [
    "pred_bin = XGB.predict(X_train)\n",
    "precision_score(y_train,pred_bin)\n",
    "recall_score(y_train,pred_bin)\n",
    "confusion_matrix(y_train,pred_bin)\n",
    "accuracy_score(y_train,pred_bin)"
   ]
  },
  {
   "cell_type": "markdown",
   "metadata": {},
   "source": [
    "<h2><i><b><font size=\"5\" face=\"Ribbon\" color=\"black\">Prediction on test data</font></b></i></h2>"
   ]
  },
  {
   "cell_type": "code",
   "execution_count": 48,
   "metadata": {},
   "outputs": [
    {
     "data": {
      "text/plain": [
       "0.7703703703703704"
      ]
     },
     "execution_count": 48,
     "metadata": {},
     "output_type": "execute_result"
    },
    {
     "data": {
      "text/plain": [
       "0.9811320754716981"
      ]
     },
     "execution_count": 48,
     "metadata": {},
     "output_type": "execute_result"
    },
    {
     "data": {
      "text/plain": [
       "array([[ 17,  31],\n",
       "       [  2, 104]])"
      ]
     },
     "execution_count": 48,
     "metadata": {},
     "output_type": "execute_result"
    },
    {
     "data": {
      "text/plain": [
       "0.7857142857142857"
      ]
     },
     "execution_count": 48,
     "metadata": {},
     "output_type": "execute_result"
    }
   ],
   "source": [
    "pred_bin = XGB.predict(X_test)\n",
    "precision_score(y_test,pred_bin)\n",
    "recall_score(y_test,pred_bin)\n",
    "confusion_matrix(y_test,pred_bin)\n",
    "accuracy_score(y_test,pred_bin)"
   ]
  },
  {
   "cell_type": "markdown",
   "metadata": {},
   "source": [
    "<h2><i><b><center><font size=\"5\" face=\"Ribbon\" color=\"black\"></font>The mean score and the 95% confidence interval of the score estimate</b></i></h2></center>"
   ]
  },
  {
   "cell_type": "code",
   "execution_count": 49,
   "metadata": {},
   "outputs": [
    {
     "data": {
      "text/plain": [
       "array([0.71456419, 0.67631579, 0.67669718, 0.79292929, 0.75688406])"
      ]
     },
     "execution_count": 49,
     "metadata": {},
     "output_type": "execute_result"
    },
    {
     "name": "stdout",
     "output_type": "stream",
     "text": [
      "Full Accuracy: 0.72(+/- 0.09)\n"
     ]
    },
    {
     "data": {
      "text/plain": [
       "array([0.8152834 , 0.77460317, 0.75849515, 0.84259259, 0.83681818])"
      ]
     },
     "execution_count": 49,
     "metadata": {},
     "output_type": "execute_result"
    },
    {
     "name": "stdout",
     "output_type": "stream",
     "text": [
      "Full Accuracy: 0.81(+/- 0.07)\n"
     ]
    },
    {
     "data": {
      "text/plain": [
       "array([0.69287926, 0.66068111, 0.66254579, 0.77106227, 0.73214286])"
      ]
     },
     "execution_count": 49,
     "metadata": {},
     "output_type": "execute_result"
    },
    {
     "name": "stdout",
     "output_type": "stream",
     "text": [
      "Full Accuracy: 0.70(+/- 0.08)\n"
     ]
    }
   ],
   "source": [
    "all_accuracies_data = cross_val_score(estimator=XGB, X=train[features], y=train_data[target], cv=5,scoring = 'f1_macro')\n",
    "all_accuracies_data\n",
    "print(\"Full Accuracy: %0.2f(+/- %0.2f)\" % (all_accuracies_data.mean(), all_accuracies_data.std()*2))\n",
    "\n",
    "all_accuracies_data = cross_val_score(estimator=XGB, X=train[features], y=train_data[target], cv=5,scoring = 'precision_macro')\n",
    "all_accuracies_data\n",
    "print(\"Full Accuracy: %0.2f(+/- %0.2f)\" % (all_accuracies_data.mean(), all_accuracies_data.std()*2))\n",
    "\n",
    "all_accuracies_data = cross_val_score(estimator=XGB, X=train[features], y=train_data[target], cv=5,scoring = 'recall_macro')\n",
    "all_accuracies_data\n",
    "print(\"Full Accuracy: %0.2f(+/- %0.2f)\" % (all_accuracies_data.mean(), all_accuracies_data.std()*2))"
   ]
  },
  {
   "cell_type": "code",
   "execution_count": null,
   "metadata": {},
   "outputs": [],
   "source": []
  },
  {
   "cell_type": "code",
   "execution_count": null,
   "metadata": {},
   "outputs": [],
   "source": []
  }
 ],
 "metadata": {
  "kernelspec": {
   "display_name": "Python 3",
   "language": "python",
   "name": "python3"
  },
  "language_info": {
   "codemirror_mode": {
    "name": "ipython",
    "version": 3
   },
   "file_extension": ".py",
   "mimetype": "text/x-python",
   "name": "python",
   "nbconvert_exporter": "python",
   "pygments_lexer": "ipython3",
   "version": "3.7.6"
  }
 },
 "nbformat": 4,
 "nbformat_minor": 4
}
